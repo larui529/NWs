{
 "cells": [
  {
   "cell_type": "code",
   "execution_count": 50,
   "metadata": {
    "collapsed": true
   },
   "outputs": [],
   "source": [
    "import os, sys\n",
    "from PIL import Image\n",
    "import numpy as np\n",
    "from matplotlib import image as mpimg\n",
    "from matplotlib import pyplot as plt\n"
   ]
  },
  {
   "cell_type": "code",
   "execution_count": 55,
   "metadata": {},
   "outputs": [],
   "source": [
    "# convert all image to other type under current path\n",
    "def img_all_convert(current_path, current_type, new_type, new_path = current_path):\n",
    "    '''\n",
    "    parameters:\n",
    "    current_path -- current images's directory\n",
    "    current_type -- current images's type\n",
    "    new_type -- convert image into target type\n",
    "    new_path -- convert image to target directory. it's default value is current path\n",
    "    '''\n",
    "    dirs = os.listdir(current_path)\n",
    "    for infile in dirs:\n",
    "        f, e = os.path.splitext(infile)\n",
    "        if e == current_type:\n",
    "            outfile = f + new_type\n",
    "            with Image.open(current_path + '/' + infile) as image:\n",
    "                image.save(new_path + '/' + outfile)"
   ]
  },
  {
   "cell_type": "code",
   "execution_count": 57,
   "metadata": {},
   "outputs": [],
   "source": [
    "current_path = '/Users/nataliezhu/Documents/sem_computer_vision/images'\n",
    "new_path = '/Users/nataliezhu/Documents/sem_computer_vision/sample'\n",
    "img_all_convert(current_path, '.tif', '.jpg', new_path)"
   ]
  },
  {
   "cell_type": "code",
   "execution_count": 53,
   "metadata": {
    "collapsed": true
   },
   "outputs": [],
   "source": [
    "# resize all images under the current path\n",
    "def img_all_resize(current_path, new_path, new_size):\n",
    "    '''\n",
    "    parameters:\n",
    "    current_path -- current images's directory\n",
    "    new_path -- convert image to target directory. it's default value is current path\n",
    "    new_h -- convert image into new (height, weight)\n",
    "    '''\n",
    "    dirs = os.listdir(current_path)\n",
    "    for infile in dirs:\n",
    "        with Image.open(current_path + '/' + infile) as image:\n",
    "            new_image = image.resize(new_size, Image.ANTIALIAS)\n",
    "            new_image.save(new_path + '/' + infile)"
   ]
  },
  {
   "cell_type": "markdown",
   "metadata": {},
   "source": [
    "r_current_path = '/Users/nataliezhu/Documents/sem_computer_vision/img/nw'\n",
    "r_new_path = '/Users/nataliezhu/Documents/sem_computer_vision/sample'\n",
    "img_resize(r_current_path, r_new_path, (1000,1000))"
   ]
  },
  {
   "cell_type": "code",
   "execution_count": 54,
   "metadata": {
    "collapsed": true
   },
   "outputs": [],
   "source": [
    "# convert all RGB images to greyscale under current path\n",
    "def img_all_to_grey(current_path, new_path = current_path):\n",
    "    '''\n",
    "    parameters:\n",
    "    current_path -- current images's directory\n",
    "    new_path -- convert image to target directory. it's default value is current_path\n",
    "    '''\n",
    "    dirs = os.listdir(current_path)\n",
    "    for infile in dirs:\n",
    "        with Image.open(current_path + '/' + infile) as image:\n",
    "            new_image = image.convert('L')\n",
    "            new_image.save(new_path + '/' + infile)"
   ]
  },
  {
   "cell_type": "markdown",
   "metadata": {},
   "source": [
    "g_current_path = '/Users/nataliezhu/Documents/sem_computer_vision/img/nw'\n",
    "g_new_path = '/Users/nataliezhu/Documents/sem_computer_vision/sample'\n",
    "img_to_grey(g_current_path, g_new_path)\n",
    "\n",
    "img = mpimg.imread('/Users/nataliezhu/Documents/sem_computer_vision/sample/GaAsP NW.jpg')\n",
    "\n",
    "img.shape\n",
    "\n",
    "plt.imshow(img)\n",
    "plt.show()"
   ]
  },
  {
   "cell_type": "code",
   "execution_count": null,
   "metadata": {
    "collapsed": true
   },
   "outputs": [],
   "source": []
  }
 ],
 "metadata": {
  "kernelspec": {
   "display_name": "Python 2",
   "language": "python",
   "name": "python2"
  },
  "language_info": {
   "codemirror_mode": {
    "name": "ipython",
    "version": 2
   },
   "file_extension": ".py",
   "mimetype": "text/x-python",
   "name": "python",
   "nbconvert_exporter": "python",
   "pygments_lexer": "ipython2",
   "version": "2.7.14"
  }
 },
 "nbformat": 4,
 "nbformat_minor": 2
}
