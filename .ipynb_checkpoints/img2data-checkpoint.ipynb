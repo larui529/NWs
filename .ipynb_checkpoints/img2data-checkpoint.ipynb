{
 "cells": [
  {
   "cell_type": "markdown",
   "metadata": {},
   "source": [
    "This is a list of function to process nw images and not nw images into train and test dataset"
   ]
  },
  {
   "cell_type": "code",
   "execution_count": 1,
   "metadata": {},
   "outputs": [],
   "source": [
    "import matplotlib.pyplot as plt\n",
    "import numpy as np\n",
    "import os\n",
    "import sys\n",
    "from IPython.display import display, Image\n",
    "%matplotlib inline\n",
    "from numpy import random"
   ]
  },
  {
   "cell_type": "code",
   "execution_count": 2,
   "metadata": {},
   "outputs": [],
   "source": [
    "# extract function to extract all the subfolder under root\n",
    "def extract(root):\n",
    "    \"\"\"\n",
    "    Argument: \n",
    "    root -- name or dir of a folder\n",
    "    Return:\n",
    "    data_folder -- subfolders of root\n",
    "    \"\"\"\n",
    "    data_folders = [os.path.join(root, d) for d in sorted(os.listdir(root))]\n",
    "    print data_folders\n",
    "    return data_folders"
   ]
  },
  {
   "cell_type": "code",
   "execution_count": null,
   "metadata": {},
   "outputs": [],
   "source": [
    "def file_split(filenames, train_size):\n",
    "    \"\"\"\n",
    "    Argument:\n",
    "    filenames -- list of filenames\n",
    "    train_size  -- ratio of train dataset (e.g. 0.8)\n",
    "    Return:\n",
    "    train_filenames -- list of train filenames\n",
    "    test_filenames -- list of test filenames\n",
    "    \"\"\"\n",
    "    filenames = sorted(filenames)\n",
    "    random.seed(230)\n",
    "    random.shuffle(filenames)\n",
    "    split_1 = int(train_size * len(filenames))\n",
    "    train_filenames = filenames[:split_1]\n",
    "    test_filenames = filenames[split_1:]\n",
    "    return train_filenames, test_filenames\n",
    "    "
   ]
  },
  {
   "cell_type": "code",
   "execution_count": 3,
   "metadata": {},
   "outputs": [],
   "source": [
    "# load function to load imgs from folder (contains several subfolders) and output a dataset and a labels\n",
    "# import image\n",
    "\n",
    "\n",
    "def load(data_folders,max_num_images, image_height, image_width, pixel_depth):\n",
    "    \"\"\"\n",
    "    Argument: \n",
    "    data_folders -- folders of different classes. Currently is nw and not_nw\n",
    "    max_num_images -- max number of images can pad into dataset. \n",
    "    image_height -- height of image\n",
    "    image_width -- width of image\n",
    "    pixel_depth -- depth of image, usually 225.0\n",
    "    Return:\n",
    "    Dataset -- dataset contains all the images in the folder, dimesion is [num_images, image_height, image_weith]\n",
    "    labels -- labels of images, dimension in [num_images], data range in range(classes)\n",
    "    \"\"\"\n",
    "    print data_folders\n",
    "    dataset = np.ndarray(  # create a ndarray with (max_num_images, n_H, n_W)\n",
    "        shape=(max_num_images, image_height, image_width), dtype=np.float32) \n",
    "    labels = np.ndarray(shape=(max_num_images), dtype=np.int32)\n",
    "    label_index = 0 # label index start from 0\n",
    "    image_index = 0 # image_index start from 0\n",
    "    for folder in data_folders:\n",
    "        print folder\n",
    "        print os.listdir(folder)\n",
    "        for image in os.listdir(folder):\n",
    "            image_file = os.path.join(folder, image)\n",
    "            try:\n",
    "                image_data = (plt.imread(image_file).astype(float) -\n",
    "                              pixel_depth / 2) / pixel_depth # normalize image\n",
    "                if image_data.shape != (image_height, image_width):\n",
    "                    raise Exception('Unexpected image shape: %s' % str(image_data.shape))\n",
    "                dataset[image_index, :, :] = image_data\n",
    "                labels[image_index] = label_index\n",
    "                image_index += 1 # read another image\n",
    "            except IOError as e:\n",
    "                print 'Could not read:', image_file, ':', e, '- it\\'s ok, skipping.'\n",
    "        label_index += 1 # next folder, next label\n",
    "    num_images = image_index\n",
    "    dataset = dataset[0:num_images, :, :]\n",
    "    labels = labels[0:num_images]\n",
    "    print 'Full dataset tensor:', dataset.shape\n",
    "    print 'Mean:', np.mean(dataset)\n",
    "    print 'Standard deviation:', np.std(dataset)\n",
    "    print 'Labels:', labels.shape\n",
    "    return dataset, labels"
   ]
  },
  {
   "cell_type": "code",
   "execution_count": null,
   "metadata": {},
   "outputs": [],
   "source": []
  }
 ],
 "metadata": {
  "kernelspec": {
   "display_name": "Python 2",
   "language": "python",
   "name": "python2"
  },
  "language_info": {
   "codemirror_mode": {
    "name": "ipython",
    "version": 2
   },
   "file_extension": ".py",
   "mimetype": "text/x-python",
   "name": "python",
   "nbconvert_exporter": "python",
   "pygments_lexer": "ipython2",
   "version": "2.7.13"
  }
 },
 "nbformat": 4,
 "nbformat_minor": 2
}
